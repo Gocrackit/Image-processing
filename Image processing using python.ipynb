{
 "cells": [
  {
   "cell_type": "markdown",
   "metadata": {},
   "source": [
    "# Image processing using Python PIL package\n",
    "Step by step guide by:Sudhanshu Mishra \n",
    "\n",
    "This notebook covers image processing using python PIL package. Before continuing further make sure you have imported the package\n",
    "\n",
    "for importing type::\n",
    "\n",
    "    pip install pillow\n",
    "Note: pillow is inbuilt in python3.\n",
    "\n"
   ]
  },
  {
   "cell_type": "code",
   "execution_count": 2,
   "metadata": {},
   "outputs": [],
   "source": [
    "#importing\n",
    "from PIL import Image"
   ]
  },
  {
   "cell_type": "markdown",
   "metadata": {},
   "source": [
    "after importing the above package.Lets open the image and print the format, size and mode of the image."
   ]
  },
  {
   "cell_type": "code",
   "execution_count": 4,
   "metadata": {},
   "outputs": [
    {
     "name": "stdout",
     "output_type": "stream",
     "text": [
      "JPEG \n",
      " (640, 640) \n",
      " RGB\n"
     ]
    }
   ],
   "source": [
    "im=Image.open('G:\\\\my python\\\\image processing\\\\1.jpg')\n",
    "print(im.format,'\\n',im.size,'\\n',im.mode)"
   ]
  },
  {
   "cell_type": "code",
   "execution_count": null,
   "metadata": {},
   "outputs": [],
   "source": []
  }
 ],
 "metadata": {
  "kernelspec": {
   "display_name": "Python 3",
   "language": "python",
   "name": "python3"
  },
  "language_info": {
   "codemirror_mode": {
    "name": "ipython",
    "version": 3
   },
   "file_extension": ".py",
   "mimetype": "text/x-python",
   "name": "python",
   "nbconvert_exporter": "python",
   "pygments_lexer": "ipython3",
   "version": "3.7.6"
  }
 },
 "nbformat": 4,
 "nbformat_minor": 4
}
